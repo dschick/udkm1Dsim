{
 "cells": [
  {
   "cell_type": "markdown",
   "id": "b8b93729-7ae5-4edb-8aaf-d4d32bd24caf",
   "metadata": {},
   "source": [
    "# Mean-Field Quantum Landau-Lifshitz-Bloch simulations"
   ]
  },
  {
   "cell_type": "markdown",
   "id": "cf660cae-16c0-4450-8f27-8977ad536895",
   "metadata": {
    "tags": []
   },
   "source": [
    "Mean-Field Quantum Landau-Lifshitz-Bloch simulations"
   ]
  },
  {
   "cell_type": "markdown",
   "id": "cd4c34ca-9054-4dc2-9f36-66065e7f9f65",
   "metadata": {},
   "source": [
    "## Setup\n",
    "\n",
    "Do all necessary imports and settings."
   ]
  },
  {
   "cell_type": "code",
   "execution_count": 4,
   "id": "92d3431e-2b84-4f20-93a6-1709d275af9f",
   "metadata": {
    "tags": []
   },
   "outputs": [
    {
     "name": "stdout",
     "output_type": "stream",
     "text": [
      "The autoreload extension is already loaded. To reload it, use:\n",
      "  %reload_ext autoreload\n"
     ]
    }
   ],
   "source": [
    "%load_ext autoreload\n",
    "%autoreload 2\n",
    "\n",
    "import udkm1Dsim as ud\n",
    "u = ud.u  # import the pint unit registry from udkm1Dsim\n",
    "import scipy.constants as constants\n",
    "import numpy as np\n",
    "import matplotlib.pyplot as plt\n",
    "%matplotlib inline\n",
    "u.setup_matplotlib()  # use matplotlib with pint units"
   ]
  },
  {
   "cell_type": "markdown",
   "id": "3767f02e-ae8e-4cb6-b12f-a13e76b710bc",
   "metadata": {},
   "source": [
    "## Structure\n",
    "\n",
    " to the [structure-example](structure.ipynb) for more details."
   ]
  },
  {
   "cell_type": "code",
   "execution_count": 25,
   "id": "bf76219d-f422-456e-b5cc-33e5ce7f1c15",
   "metadata": {
    "tags": []
   },
   "outputs": [],
   "source": [
    "Co = ud.Atom('Co')\n",
    "Ni = ud.Atom('Ni')\n",
    "CoNi = ud.AtomMixed('CoNi')\n",
    "CoNi.add_atom(Co, 0.5)\n",
    "CoNi.add_atom(Ni, 0.5)\n",
    "Si = ud.Atom('Si')"
   ]
  },
  {
   "cell_type": "code",
   "execution_count": 26,
   "id": "3ca50509-b21d-4736-b820-3053c290286a",
   "metadata": {
    "tags": []
   },
   "outputs": [
    {
     "name": "stdout",
     "output_type": "stream",
     "text": [
      "Number of subsystems changed from 1 to 2.\n"
     ]
    }
   ],
   "source": [
    "prop_CoNi = {}\n",
    "prop_CoNi['heat_capacity'] = ['0.1*T',\n",
    "                              532*u.J/u.kg/u.K,\n",
    "                             ]\n",
    "prop_CoNi['therm_cond'] = [20*u.W/(u.m*u.K),\n",
    "                           80*u.W/(u.m*u.K),]\n",
    "\n",
    "prop_CoNi['aniso_exponents'] = [1, 2, 3]\n",
    "\n",
    "R = 25.3/1e-12\n",
    "Tc = 1388\n",
    "g = 4.0e18\n",
    "\n",
    "prop_CoNi['sub_system_coupling'] = \\\n",
    "    ['-{:f}*(T_0-T_1)'.format(g),\n",
    "     '{:f}*(T_0-T_1)'.format(g)\n",
    "    ]\n",
    "prop_CoNi['lin_therm_exp'] = [0, 11.8e-6]\n",
    "prop_CoNi['sound_vel'] = 4.910*u.nm/u.ps\n",
    "prop_CoNi['opt_ref_index'] = 2.9174+3.3545j\n",
    "\n",
    "layer_CoNi = ud.AmorphousLayer('CoNi', 'CoNi amorphous', thickness=1*u.nm,\n",
    "                               density=7000*u.kg/u.m**3, atom=CoNi, **prop_CoNi)"
   ]
  },
  {
   "cell_type": "code",
   "execution_count": 27,
   "id": "1a444c6c-6084-4bcc-a0fe-4e1e12ed433d",
   "metadata": {
    "tags": []
   },
   "outputs": [
    {
     "name": "stdout",
     "output_type": "stream",
     "text": [
      "Amorphous layer with the following properties\n",
      "\n",
      "=============================  ==========================================\n",
      "                    parameter  value\n",
      "=============================  ==========================================\n",
      "                           id  CoNi\n",
      "                         name  CoNi amorphous\n",
      "                    thickness  1.0 nm\n",
      "                         area  0.01 nm²\n",
      "                       volume  0.01 nm³\n",
      "                         mass  7×10⁻²⁶ kg\n",
      "           mass per unit area  7×10⁻²⁶ kg\n",
      "                      density  7×10³ kg/m³\n",
      "                    roughness  0.0 nm\n",
      "          Debye Waller Factor  0 m²\n",
      "               sound velocity  4.91×10³ m/s\n",
      "              spring constant  [1.6875670000000007] kg/s²\n",
      "               phonon damping  0.0 kg/s\n",
      "              opt. pen. depth  0.0 nm\n",
      "        opt. refractive index  (2.9174+3.3545j)\n",
      "       opt. ref. index/strain  0\n",
      "             thermal conduct.  20.0 W/(m K)\n",
      "                               80.0 W/(m K)\n",
      "     linear thermal expansion  0\n",
      "                               1.18e-05\n",
      "                heat capacity  0.1*T J/(kg K)\n",
      "                               532.0 J/(kg K)\n",
      "           subsystem coupling  -4000000000000000000.000000*(T_0-T_1) W/m³\n",
      "                               4000000000000000000.000000*(T_0-T_1) W/m³\n",
      "               effective spin  0\n",
      "            Curie temperature  0.0 K\n",
      "    mean-field exch. coupling  0.0 kg·m²/s²\n",
      "   coupling to bath parameter  0\n",
      "       atomic magnetic moment  0\n",
      "uniaxial anisotropy exponents  [1. 2. 3.]\n",
      "                   anisotropy  0.0 J/m³\n",
      "           exchange stiffness  0.0 J/m\n",
      "     saturation magnetization  0.0 J/T/m³\n",
      "                         atom  CoNi\n",
      "                magnetization\n",
      "                    amplitude  0\n",
      "                      phi [°]  0.0 deg\n",
      "                    gamma [°]  0.0 deg\n",
      "=============================  ==========================================\n"
     ]
    }
   ],
   "source": [
    "print(layer_CoNi)"
   ]
  },
  {
   "cell_type": "code",
   "execution_count": 4,
   "id": "645ee3c5-01aa-458a-b8f4-93c99ecf7a2b",
   "metadata": {
    "tags": []
   },
   "outputs": [
    {
     "name": "stdout",
     "output_type": "stream",
     "text": [
      "Number of subsystems changed from 1 to 2.\n"
     ]
    }
   ],
   "source": [
    "prop_Si = {}\n",
    "prop_Si['heat_capacity'] = [100*u.J/u.kg/u.K, 603*u.J/u.kg/u.K]\n",
    "prop_Si['therm_cond'] = [0, 100*u.W/(u.m*u.K)]\n",
    "\n",
    "prop_Si['sub_system_coupling'] = [0, 0]\n",
    "\n",
    "prop_Si['lin_therm_exp'] = [0, 2.6e-6]\n",
    "prop_Si['sound_vel'] = 8.433*u.nm/u.ps\n",
    "prop_Si['opt_ref_index'] = 3.6941+0.0065435j\n",
    "\n",
    "layer_Si = ud.AmorphousLayer('Si', \"Si amorphous\", thickness=1*u.nm, density=2336*u.kg/u.m**3,\n",
    "                             atom=Si, **prop_Si)"
   ]
  },
  {
   "cell_type": "code",
   "execution_count": 5,
   "id": "d93b60d2-c329-4c2a-aed0-3466ff0cefdb",
   "metadata": {
    "tags": []
   },
   "outputs": [],
   "source": [
    "S = ud.Structure('CoNi')\n",
    "\n",
    "S.add_sub_structure(layer_CoNi, 20)\n",
    "S.add_sub_structure(layer_Si, 50)"
   ]
  },
  {
   "cell_type": "code",
   "execution_count": 6,
   "id": "256ee59a-a00a-42bf-8035-05417317b644",
   "metadata": {
    "tags": []
   },
   "outputs": [
    {
     "data": {
      "image/png": "[encoded data removed]",
      "text/plain": [
       "<Figure size 1440x72 with 1 Axes>"
      ]
     },
     "metadata": {
      "needs_background": "light"
     },
     "output_type": "display_data"
    }
   ],
   "source": [
    "S.visualize()"
   ]
  },
  {
   "cell_type": "code",
   "execution_count": null,
   "id": "94b9bf7c-3567-49ea-9313-aa2a57203c28",
   "metadata": {},
   "outputs": [],
   "source": []
  },
  {
   "cell_type": "markdown",
   "id": "2ebb7482-edd9-4287-9d16-39bfc9003ffa",
   "metadata": {},
   "source": [
    "## Initialize Heat and the Excitation"
   ]
  },
  {
   "cell_type": "code",
   "execution_count": 7,
   "id": "ff2c8311-3140-4028-8eb3-eca39514d3fd",
   "metadata": {
    "tags": []
   },
   "outputs": [],
   "source": [
    "h = ud.Heat(S, True)\n",
    "\n",
    "h.save_data = False\n",
    "h.disp_messages = True"
   ]
  },
  {
   "cell_type": "code",
   "execution_count": 8,
   "id": "e46146bb-ac15-4cc5-8372-d3448f1988d0",
   "metadata": {
    "tags": []
   },
   "outputs": [],
   "source": [
    "h.excitation = {'fluence': [30]*u.mJ/u.cm**2,\n",
    "                'delay_pump':  [0]*u.ps,\n",
    "                'pulse_width':  [0.05]*u.ps,\n",
    "                'multilayer_absorption': True,\n",
    "                'wavelength': 800*u.nm,\n",
    "                'theta': 45*u.deg}\n",
    "# temporal and spatial grid\n",
    "delays = np.r_[-1:5:0.005]*u.ps\n",
    "_, _, distances = S.get_distances_of_layers()"
   ]
  },
  {
   "cell_type": "markdown",
   "id": "77e5ba0a-3b94-4539-9659-f13112805e3c",
   "metadata": {},
   "source": [
    "## Calculate Heat Diffusion"
   ]
  },
  {
   "cell_type": "code",
   "execution_count": 9,
   "id": "daf4037c-bb4d-470c-b18e-2ccb68860b7f",
   "metadata": {
    "tags": []
   },
   "outputs": [
    {
     "name": "stdout",
     "output_type": "stream",
     "text": [
      "Surface incidence fluence scaled by factor 0.7071 due to incidence angle theta=45.00 deg\n",
      "Calculating _heat_diffusion_ for excitation 1:1 ...\n",
      "Absorption profile is calculated by multilayer formalism.\n",
      "Total reflectivity of 42.4 % and transmission of 28.4 %.\n"
     ]
    },
    {
     "data": {
      "application/json": {
       "ascii": false,
       "bar_format": null,
       "colour": null,
       "elapsed": 0.0276644229888916,
       "initial": 0,
       "n": 0,
       "ncols": null,
       "nrows": 29,
       "postfix": null,
       "prefix": "",
       "rate": null,
       "total": null,
       "unit": "it",
       "unit_divisor": 1000,
       "unit_scale": false
      },
      "application/vnd.jupyter.widget-view+json": {
       "model_id": "d9bf7d6132a042f8b6ae34634057887c",
       "version_major": 2,
       "version_minor": 0
      },
      "text/plain": [
       "0it [00:00, ?it/s]"
      ]
     },
     "metadata": {},
     "output_type": "display_data"
    },
    {
     "name": "stdout",
     "output_type": "stream",
     "text": [
      "Elapsed time for _heat_diffusion_ with 1 excitation(s): 1.595883 s\n",
      "Calculating _heat_diffusion_ without excitation...\n"
     ]
    },
    {
     "data": {
      "application/json": {
       "ascii": false,
       "bar_format": null,
       "colour": null,
       "elapsed": 0.019171953201293945,
       "initial": 0,
       "n": 0,
       "ncols": null,
       "nrows": 29,
       "postfix": null,
       "prefix": "",
       "rate": null,
       "total": null,
       "unit": "it",
       "unit_divisor": 1000,
       "unit_scale": false
      },
      "application/vnd.jupyter.widget-view+json": {
       "model_id": "3a618bf3ab17446b82916d8188194f83",
       "version_major": 2,
       "version_minor": 0
      },
      "text/plain": [
       "0it [00:00, ?it/s]"
      ]
     },
     "metadata": {},
     "output_type": "display_data"
    },
    {
     "name": "stdout",
     "output_type": "stream",
     "text": [
      "Elapsed time for _heat_diffusion_: 1.774550 s\n",
      "Elapsed time for _temp_map_: 3.414018 s\n"
     ]
    }
   ],
   "source": [
    "# enable heat diffusion\n",
    "h.heat_diffusion = True\n",
    "# set the boundary conditions\n",
    "h.boundary_conditions = {'top_type': 'isolator', 'bottom_type': 'isolator'}\n",
    "# The resulting temperature profile is calculated in one line:\n",
    "\n",
    "temp_map, delta_temp = h.get_temp_map(delays, 300)"
   ]
  },
  {
   "cell_type": "code",
   "execution_count": 10,
   "id": "2b5e183e-fb49-48ef-84a7-11e68411d953",
   "metadata": {
    "tags": []
   },
   "outputs": [
    {
     "data": {
      "image/png": "[encoded data removed]",
      "text/plain": [
       "<Figure size 432x576 with 4 Axes>"
      ]
     },
     "metadata": {
      "needs_background": "light"
     },
     "output_type": "display_data"
    }
   ],
   "source": [
    "plt.figure(figsize=[6, 8])\n",
    "plt.subplot(2, 1, 1)\n",
    "plt.pcolormesh(distances.to('nm').magnitude, delays.to('ps').magnitude, temp_map[:, :, 0],\n",
    "               shading='auto')\n",
    "plt.colorbar()\n",
    "plt.xlabel('Distance [nm]')\n",
    "plt.ylabel('Delay [ps]')\n",
    "plt.title('Temperature Map Electrons')\n",
    "\n",
    "plt.subplot(2, 1, 2)\n",
    "plt.pcolormesh(distances.to('nm').magnitude, delays.to('ps').magnitude, temp_map[:, :, 1],\n",
    "               shading='auto')\n",
    "plt.colorbar()\n",
    "plt.xlabel('Distance [nm]')\n",
    "plt.ylabel('Delay [ps]')\n",
    "plt.title('Temperature Map Phonons')\n",
    "\n",
    "plt.tight_layout()\n",
    "plt.show()"
   ]
  },
  {
   "cell_type": "markdown",
   "id": "5dda2842-980f-4bcc-82b2-08de983a504a",
   "metadata": {},
   "source": [
    "## Magnetization"
   ]
  },
  {
   "cell_type": "code",
   "execution_count": 11,
   "id": "fb4748eb-757a-456b-a56c-de670aa9ab97",
   "metadata": {
    "tags": []
   },
   "outputs": [
    {
     "name": "stdout",
     "output_type": "stream",
     "text": [
      "Landau-Lifshitz-Bloch Magnetization Dynamics simulation properties:\n",
      "\n",
      "Magnetization simulation properties:\n",
      "\n",
      "This is the current structure for the simulations:\n",
      "\n",
      "Structure properties:\n",
      "\n",
      "Name   : CoNi\n",
      "Thickness : 70.00 nanometer\n",
      "Roughness : 0.00 nanometer\n",
      "----\n",
      "20 times CoNi amorphous: 20.00 nanometer\n",
      "50 times Si amorphous: 50.00 nanometer\n",
      "----\n",
      "no substrate\n",
      "\n",
      "\n",
      "Display properties:\n",
      "\n",
      "================  =======\n",
      "       parameter  value\n",
      "================  =======\n",
      "    force recalc  True\n",
      " cache directory  ./\n",
      "display messages  True\n",
      "       save data  False\n",
      "    progress bar  True\n",
      "================  =======\n"
     ]
    }
   ],
   "source": [
    "mag = ud.LLB(S, True)\n",
    "mag.save_data = False\n",
    "print(mag)"
   ]
  },
  {
   "cell_type": "code",
   "execution_count": 12,
   "id": "4471c839-e43d-4b67-a27b-3290f5bb6ce6",
   "metadata": {
    "tags": []
   },
   "outputs": [
    {
     "name": "stdout",
     "output_type": "stream",
     "text": [
      "Calculating _magnetization_map_ ...\n"
     ]
    },
    {
     "data": {
      "application/json": {
       "ascii": false,
       "bar_format": null,
       "colour": null,
       "elapsed": 0.02434229850769043,
       "initial": 0,
       "n": 0,
       "ncols": null,
       "nrows": 29,
       "postfix": null,
       "prefix": "",
       "rate": null,
       "total": null,
       "unit": "it",
       "unit_divisor": 1000,
       "unit_scale": false
      },
      "application/vnd.jupyter.widget-view+json": {
       "model_id": "efd317397d244566989f376bcd73d71e",
       "version_major": 2,
       "version_minor": 0
      },
      "text/plain": [
       "0it [00:00, ?it/s]"
      ]
     },
     "metadata": {},
     "output_type": "display_data"
    },
    {
     "name": "stdout",
     "output_type": "stream",
     "text": [
      "Elapsed time for _LLB_: 0.032401 s\n",
      "Elapsed time for _magnetization_map_: 0.032401 s\n"
     ]
    }
   ],
   "source": [
    "magnetization_map = mag.get_magnetization_map(delays, temp_map=temp_map)"
   ]
  },
  {
   "cell_type": "code",
   "execution_count": 13,
   "id": "0881ac92-0a7f-4f28-89d8-f5192b7c4cb4",
   "metadata": {
    "tags": []
   },
   "outputs": [
    {
     "data": {
      "text/plain": [
       "array([[0., 0., 0., ..., 0., 0., 0.],\n",
       "       [0., 0., 0., ..., 0., 0., 0.],\n",
       "       [0., 0., 0., ..., 0., 0., 0.],\n",
       "       ...,\n",
       "       [0., 0., 0., ..., 0., 0., 0.],\n",
       "       [0., 0., 0., ..., 0., 0., 0.],\n",
       "       [0., 0., 0., ..., 0., 0., 0.]])"
      ]
     },
     "execution_count": 13,
     "metadata": {},
     "output_type": "execute_result"
    }
   ],
   "source": [
    "magnetization_map"
   ]
  },
  {
   "cell_type": "code",
   "execution_count": null,
   "id": "11123f02-0eda-4598-8c64-0de03944c6ac",
   "metadata": {},
   "outputs": [],
   "source": []
  }
 ],
 "metadata": {
  "kernelspec": {
   "display_name": "Python 3 (ipykernel)",
   "language": "python",
   "name": "python3"
  },
  "language_info": {
   "codemirror_mode": {
    "name": "ipython",
    "version": 3
   },
   "file_extension": ".py",
   "mimetype": "text/x-python",
   "name": "python",
   "nbconvert_exporter": "python",
   "pygments_lexer": "ipython3",
   "version": "3.8.9"
  }
 },
 "nbformat": 4,
 "nbformat_minor": 5
}
